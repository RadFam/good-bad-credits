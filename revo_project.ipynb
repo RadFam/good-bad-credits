{
 "cells": [
  {
   "attachments": {},
   "cell_type": "markdown",
   "metadata": {},
   "source": [
    "<span style=\"color:green\">\n",
    "<h2><b>Модель надежности заемщика</b></h2>\n",
    "</span>"
   ]
  },
  {
   "attachments": {},
   "cell_type": "markdown",
   "metadata": {},
   "source": [
    "<span style=\"color:green\">\n",
    "В файле `revo_ds_test_task.csv` собраны данные по повторным займам текущих клиентов компании.<br>\n",
    "По имеющемуся набору данных, необходимо построить модель, которая будет прогнозировать значение целевой переменной 'bad_flag'.\n",
    "</span>"
   ]
  },
  {
   "attachments": {},
   "cell_type": "markdown",
   "metadata": {},
   "source": [
    "<span style=\"color:green\">\n",
    "Импортируем необходимые для работы модули\n",
    "</span>"
   ]
  },
  {
   "cell_type": "code",
   "execution_count": 40,
   "metadata": {},
   "outputs": [],
   "source": [
    "import pandas as pd\n",
    "import numpy as np\n",
    "import matplotlib.pyplot as plt\n",
    "\n",
    "import lightgbm as lgb\n",
    "\n",
    "from sklearn.linear_model import LogisticRegressionCV, LinearRegression, SGDClassifier\n",
    "from sklearn.model_selection import train_test_split, cross_val_score, GridSearchCV\n",
    "from sklearn.metrics import roc_auc_score, accuracy_score, balanced_accuracy_score, average_precision_score, f1_score, precision_score, roc_curve, auc, classification_report, confusion_matrix\n",
    "from sklearn.preprocessing import StandardScaler\n",
    "from sklearn.svm import SVC\n",
    "from sklearn.utils import resample, shuffle"
   ]
  },
  {
   "attachments": {},
   "cell_type": "markdown",
   "metadata": {},
   "source": [
    "<span style=\"color:green\">\n",
    "Считаем таблицу, посмотрим, какие у нее есть столбцы, и каково их наполнение\n",
    "</span>"
   ]
  },
  {
   "cell_type": "code",
   "execution_count": 2,
   "metadata": {},
   "outputs": [],
   "source": [
    "data = pd.read_csv('revo_ds_test_task.csv')"
   ]
  },
  {
   "cell_type": "code",
   "execution_count": 3,
   "metadata": {},
   "outputs": [
    {
     "data": {
      "text/plain": [
       "Index(['loanKey', 'rep_loan_date', 'first_loan', 'dpd_5_cnt', 'dpd_15_cnt',\n",
       "       'dpd_30_cnt', 'first_overdue_date', 'close_loans_cnt',\n",
       "       'federal_district_nm', 'TraderKey', 'payment_type_0', 'payment_type_1',\n",
       "       'payment_type_2', 'payment_type_3', 'payment_type_4', 'payment_type_5',\n",
       "       'past_billings_cnt', 'score_1', 'score_2', 'age', 'gender', 'bad_flag'],\n",
       "      dtype='object')"
      ]
     },
     "execution_count": 3,
     "metadata": {},
     "output_type": "execute_result"
    }
   ],
   "source": [
    "data.columns"
   ]
  },
  {
   "cell_type": "code",
   "execution_count": 4,
   "metadata": {},
   "outputs": [
    {
     "data": {
      "text/html": [
       "<div>\n",
       "<style scoped>\n",
       "    .dataframe tbody tr th:only-of-type {\n",
       "        vertical-align: middle;\n",
       "    }\n",
       "\n",
       "    .dataframe tbody tr th {\n",
       "        vertical-align: top;\n",
       "    }\n",
       "\n",
       "    .dataframe thead th {\n",
       "        text-align: right;\n",
       "    }\n",
       "</style>\n",
       "<table border=\"1\" class=\"dataframe\">\n",
       "  <thead>\n",
       "    <tr style=\"text-align: right;\">\n",
       "      <th></th>\n",
       "      <th>loanKey</th>\n",
       "      <th>rep_loan_date</th>\n",
       "      <th>first_loan</th>\n",
       "      <th>dpd_5_cnt</th>\n",
       "      <th>dpd_15_cnt</th>\n",
       "      <th>dpd_30_cnt</th>\n",
       "      <th>first_overdue_date</th>\n",
       "      <th>close_loans_cnt</th>\n",
       "      <th>federal_district_nm</th>\n",
       "      <th>TraderKey</th>\n",
       "      <th>...</th>\n",
       "      <th>payment_type_2</th>\n",
       "      <th>payment_type_3</th>\n",
       "      <th>payment_type_4</th>\n",
       "      <th>payment_type_5</th>\n",
       "      <th>past_billings_cnt</th>\n",
       "      <th>score_1</th>\n",
       "      <th>score_2</th>\n",
       "      <th>age</th>\n",
       "      <th>gender</th>\n",
       "      <th>bad_flag</th>\n",
       "    </tr>\n",
       "  </thead>\n",
       "  <tbody>\n",
       "    <tr>\n",
       "      <th>0</th>\n",
       "      <td>708382</td>\n",
       "      <td>2016-10-06</td>\n",
       "      <td>2015-11-13</td>\n",
       "      <td>NaN</td>\n",
       "      <td>NaN</td>\n",
       "      <td>NaN</td>\n",
       "      <td>NaN</td>\n",
       "      <td>3.0</td>\n",
       "      <td>region_6</td>\n",
       "      <td>6</td>\n",
       "      <td>...</td>\n",
       "      <td>10</td>\n",
       "      <td>0</td>\n",
       "      <td>0</td>\n",
       "      <td>0</td>\n",
       "      <td>10.0</td>\n",
       "      <td>NaN</td>\n",
       "      <td>NaN</td>\n",
       "      <td>21.0</td>\n",
       "      <td>False</td>\n",
       "      <td>0</td>\n",
       "    </tr>\n",
       "    <tr>\n",
       "      <th>1</th>\n",
       "      <td>406305</td>\n",
       "      <td>2016-03-26</td>\n",
       "      <td>2015-09-28</td>\n",
       "      <td>1.0</td>\n",
       "      <td>0.0</td>\n",
       "      <td>0.0</td>\n",
       "      <td>2016-01-30</td>\n",
       "      <td>0.0</td>\n",
       "      <td>region_6</td>\n",
       "      <td>6</td>\n",
       "      <td>...</td>\n",
       "      <td>6</td>\n",
       "      <td>0</td>\n",
       "      <td>0</td>\n",
       "      <td>0</td>\n",
       "      <td>5.0</td>\n",
       "      <td>NaN</td>\n",
       "      <td>NaN</td>\n",
       "      <td>20.0</td>\n",
       "      <td>False</td>\n",
       "      <td>0</td>\n",
       "    </tr>\n",
       "    <tr>\n",
       "      <th>2</th>\n",
       "      <td>779736</td>\n",
       "      <td>2016-10-30</td>\n",
       "      <td>2015-12-21</td>\n",
       "      <td>NaN</td>\n",
       "      <td>NaN</td>\n",
       "      <td>NaN</td>\n",
       "      <td>NaN</td>\n",
       "      <td>2.0</td>\n",
       "      <td>region_1</td>\n",
       "      <td>6</td>\n",
       "      <td>...</td>\n",
       "      <td>0</td>\n",
       "      <td>5</td>\n",
       "      <td>0</td>\n",
       "      <td>0</td>\n",
       "      <td>5.0</td>\n",
       "      <td>NaN</td>\n",
       "      <td>NaN</td>\n",
       "      <td>19.0</td>\n",
       "      <td>False</td>\n",
       "      <td>0</td>\n",
       "    </tr>\n",
       "    <tr>\n",
       "      <th>3</th>\n",
       "      <td>556376</td>\n",
       "      <td>2016-06-29</td>\n",
       "      <td>2015-06-30</td>\n",
       "      <td>NaN</td>\n",
       "      <td>NaN</td>\n",
       "      <td>NaN</td>\n",
       "      <td>NaN</td>\n",
       "      <td>1.0</td>\n",
       "      <td>region_6</td>\n",
       "      <td>14</td>\n",
       "      <td>...</td>\n",
       "      <td>4</td>\n",
       "      <td>0</td>\n",
       "      <td>0</td>\n",
       "      <td>0</td>\n",
       "      <td>6.0</td>\n",
       "      <td>NaN</td>\n",
       "      <td>NaN</td>\n",
       "      <td>21.0</td>\n",
       "      <td>False</td>\n",
       "      <td>0</td>\n",
       "    </tr>\n",
       "    <tr>\n",
       "      <th>4</th>\n",
       "      <td>266968</td>\n",
       "      <td>2015-12-01</td>\n",
       "      <td>2015-08-03</td>\n",
       "      <td>NaN</td>\n",
       "      <td>NaN</td>\n",
       "      <td>NaN</td>\n",
       "      <td>NaN</td>\n",
       "      <td>0.0</td>\n",
       "      <td>region_5</td>\n",
       "      <td>22</td>\n",
       "      <td>...</td>\n",
       "      <td>0</td>\n",
       "      <td>0</td>\n",
       "      <td>0</td>\n",
       "      <td>0</td>\n",
       "      <td>3.0</td>\n",
       "      <td>NaN</td>\n",
       "      <td>NaN</td>\n",
       "      <td>33.0</td>\n",
       "      <td>False</td>\n",
       "      <td>0</td>\n",
       "    </tr>\n",
       "    <tr>\n",
       "      <th>5</th>\n",
       "      <td>697186</td>\n",
       "      <td>2016-10-01</td>\n",
       "      <td>2015-08-30</td>\n",
       "      <td>NaN</td>\n",
       "      <td>NaN</td>\n",
       "      <td>NaN</td>\n",
       "      <td>NaN</td>\n",
       "      <td>2.0</td>\n",
       "      <td>region_3</td>\n",
       "      <td>38</td>\n",
       "      <td>...</td>\n",
       "      <td>6</td>\n",
       "      <td>0</td>\n",
       "      <td>0</td>\n",
       "      <td>0</td>\n",
       "      <td>5.0</td>\n",
       "      <td>NaN</td>\n",
       "      <td>NaN</td>\n",
       "      <td>34.0</td>\n",
       "      <td>False</td>\n",
       "      <td>0</td>\n",
       "    </tr>\n",
       "    <tr>\n",
       "      <th>6</th>\n",
       "      <td>347907</td>\n",
       "      <td>2016-02-18</td>\n",
       "      <td>2015-06-07</td>\n",
       "      <td>1.0</td>\n",
       "      <td>0.0</td>\n",
       "      <td>0.0</td>\n",
       "      <td>2015-11-06</td>\n",
       "      <td>2.0</td>\n",
       "      <td>region_3</td>\n",
       "      <td>6</td>\n",
       "      <td>...</td>\n",
       "      <td>9</td>\n",
       "      <td>0</td>\n",
       "      <td>0</td>\n",
       "      <td>0</td>\n",
       "      <td>8.0</td>\n",
       "      <td>NaN</td>\n",
       "      <td>NaN</td>\n",
       "      <td>32.0</td>\n",
       "      <td>False</td>\n",
       "      <td>0</td>\n",
       "    </tr>\n",
       "    <tr>\n",
       "      <th>7</th>\n",
       "      <td>256097</td>\n",
       "      <td>2015-11-23</td>\n",
       "      <td>2015-06-04</td>\n",
       "      <td>1.0</td>\n",
       "      <td>1.0</td>\n",
       "      <td>0.0</td>\n",
       "      <td>2015-11-06</td>\n",
       "      <td>0.0</td>\n",
       "      <td>region_3</td>\n",
       "      <td>6</td>\n",
       "      <td>...</td>\n",
       "      <td>5</td>\n",
       "      <td>0</td>\n",
       "      <td>0</td>\n",
       "      <td>0</td>\n",
       "      <td>5.0</td>\n",
       "      <td>NaN</td>\n",
       "      <td>NaN</td>\n",
       "      <td>23.0</td>\n",
       "      <td>False</td>\n",
       "      <td>1</td>\n",
       "    </tr>\n",
       "    <tr>\n",
       "      <th>8</th>\n",
       "      <td>670540</td>\n",
       "      <td>2016-09-19</td>\n",
       "      <td>2015-12-03</td>\n",
       "      <td>3.0</td>\n",
       "      <td>1.0</td>\n",
       "      <td>0.0</td>\n",
       "      <td>2016-01-15</td>\n",
       "      <td>1.0</td>\n",
       "      <td>region_2</td>\n",
       "      <td>6</td>\n",
       "      <td>...</td>\n",
       "      <td>4</td>\n",
       "      <td>0</td>\n",
       "      <td>0</td>\n",
       "      <td>0</td>\n",
       "      <td>6.0</td>\n",
       "      <td>NaN</td>\n",
       "      <td>NaN</td>\n",
       "      <td>33.0</td>\n",
       "      <td>False</td>\n",
       "      <td>0</td>\n",
       "    </tr>\n",
       "    <tr>\n",
       "      <th>9</th>\n",
       "      <td>254453</td>\n",
       "      <td>2015-11-22</td>\n",
       "      <td>2015-06-04</td>\n",
       "      <td>1.0</td>\n",
       "      <td>1.0</td>\n",
       "      <td>0.0</td>\n",
       "      <td>2015-11-06</td>\n",
       "      <td>0.0</td>\n",
       "      <td>region_3</td>\n",
       "      <td>6</td>\n",
       "      <td>...</td>\n",
       "      <td>5</td>\n",
       "      <td>0</td>\n",
       "      <td>0</td>\n",
       "      <td>0</td>\n",
       "      <td>5.0</td>\n",
       "      <td>NaN</td>\n",
       "      <td>NaN</td>\n",
       "      <td>23.0</td>\n",
       "      <td>False</td>\n",
       "      <td>1</td>\n",
       "    </tr>\n",
       "  </tbody>\n",
       "</table>\n",
       "<p>10 rows × 22 columns</p>\n",
       "</div>"
      ],
      "text/plain": [
       "   loanKey rep_loan_date  first_loan  dpd_5_cnt  dpd_15_cnt  dpd_30_cnt  \\\n",
       "0   708382    2016-10-06  2015-11-13        NaN         NaN         NaN   \n",
       "1   406305    2016-03-26  2015-09-28        1.0         0.0         0.0   \n",
       "2   779736    2016-10-30  2015-12-21        NaN         NaN         NaN   \n",
       "3   556376    2016-06-29  2015-06-30        NaN         NaN         NaN   \n",
       "4   266968    2015-12-01  2015-08-03        NaN         NaN         NaN   \n",
       "5   697186    2016-10-01  2015-08-30        NaN         NaN         NaN   \n",
       "6   347907    2016-02-18  2015-06-07        1.0         0.0         0.0   \n",
       "7   256097    2015-11-23  2015-06-04        1.0         1.0         0.0   \n",
       "8   670540    2016-09-19  2015-12-03        3.0         1.0         0.0   \n",
       "9   254453    2015-11-22  2015-06-04        1.0         1.0         0.0   \n",
       "\n",
       "  first_overdue_date  close_loans_cnt federal_district_nm  TraderKey  ...  \\\n",
       "0                NaN              3.0            region_6          6  ...   \n",
       "1         2016-01-30              0.0            region_6          6  ...   \n",
       "2                NaN              2.0            region_1          6  ...   \n",
       "3                NaN              1.0            region_6         14  ...   \n",
       "4                NaN              0.0            region_5         22  ...   \n",
       "5                NaN              2.0            region_3         38  ...   \n",
       "6         2015-11-06              2.0            region_3          6  ...   \n",
       "7         2015-11-06              0.0            region_3          6  ...   \n",
       "8         2016-01-15              1.0            region_2          6  ...   \n",
       "9         2015-11-06              0.0            region_3          6  ...   \n",
       "\n",
       "   payment_type_2  payment_type_3  payment_type_4  payment_type_5  \\\n",
       "0              10               0               0               0   \n",
       "1               6               0               0               0   \n",
       "2               0               5               0               0   \n",
       "3               4               0               0               0   \n",
       "4               0               0               0               0   \n",
       "5               6               0               0               0   \n",
       "6               9               0               0               0   \n",
       "7               5               0               0               0   \n",
       "8               4               0               0               0   \n",
       "9               5               0               0               0   \n",
       "\n",
       "   past_billings_cnt  score_1  score_2   age  gender  bad_flag  \n",
       "0               10.0      NaN      NaN  21.0   False         0  \n",
       "1                5.0      NaN      NaN  20.0   False         0  \n",
       "2                5.0      NaN      NaN  19.0   False         0  \n",
       "3                6.0      NaN      NaN  21.0   False         0  \n",
       "4                3.0      NaN      NaN  33.0   False         0  \n",
       "5                5.0      NaN      NaN  34.0   False         0  \n",
       "6                8.0      NaN      NaN  32.0   False         0  \n",
       "7                5.0      NaN      NaN  23.0   False         1  \n",
       "8                6.0      NaN      NaN  33.0   False         0  \n",
       "9                5.0      NaN      NaN  23.0   False         1  \n",
       "\n",
       "[10 rows x 22 columns]"
      ]
     },
     "execution_count": 4,
     "metadata": {},
     "output_type": "execute_result"
    }
   ],
   "source": [
    "data.head(10)"
   ]
  },
  {
   "cell_type": "code",
   "execution_count": 5,
   "metadata": {},
   "outputs": [
    {
     "name": "stdout",
     "output_type": "stream",
     "text": [
      "<class 'pandas.core.frame.DataFrame'>\n",
      "RangeIndex: 4157 entries, 0 to 4156\n",
      "Data columns (total 22 columns):\n",
      " #   Column               Non-Null Count  Dtype  \n",
      "---  ------               --------------  -----  \n",
      " 0   loanKey              4157 non-null   int64  \n",
      " 1   rep_loan_date        4157 non-null   object \n",
      " 2   first_loan           4157 non-null   object \n",
      " 3   dpd_5_cnt            675 non-null    float64\n",
      " 4   dpd_15_cnt           675 non-null    float64\n",
      " 5   dpd_30_cnt           675 non-null    float64\n",
      " 6   first_overdue_date   675 non-null    object \n",
      " 7   close_loans_cnt      4142 non-null   float64\n",
      " 8   federal_district_nm  4146 non-null   object \n",
      " 9   TraderKey            4157 non-null   int64  \n",
      " 10  payment_type_0       4157 non-null   int64  \n",
      " 11  payment_type_1       4157 non-null   int64  \n",
      " 12  payment_type_2       4157 non-null   int64  \n",
      " 13  payment_type_3       4157 non-null   int64  \n",
      " 14  payment_type_4       4157 non-null   int64  \n",
      " 15  payment_type_5       4157 non-null   int64  \n",
      " 16  past_billings_cnt    3909 non-null   float64\n",
      " 17  score_1              3507 non-null   float64\n",
      " 18  score_2              239 non-null    float64\n",
      " 19  age                  4157 non-null   float64\n",
      " 20  gender               4157 non-null   bool   \n",
      " 21  bad_flag             4157 non-null   int64  \n",
      "dtypes: bool(1), float64(8), int64(9), object(4)\n",
      "memory usage: 686.2+ KB\n"
     ]
    }
   ],
   "source": [
    "data.info()"
   ]
  },
  {
   "attachments": {},
   "cell_type": "markdown",
   "metadata": {},
   "source": [
    "<span style=\"color:green\">\n",
    "Прежде всего косметические замечания:<br>\n",
    "1. столбцы 'loanKey', 'TraderKey' привести к snake case<br>\n",
    "2. Всего у нас 4157 записей. Тем не менее:<br>\n",
    "      - у столбцов 'dpd_5_cnt', 'dpd_15_cnt', 'dpd_30_cnt' ,'first_overdue_date' всего по 675 записей (!!!)<br>\n",
    "      - у столбца 'close_loans_cnt' 4142 записи<br>\n",
    "      - у столбца 'federal_district_nm' 4146 запись (и она object типа)<br>\n",
    "      - у столбца 'past_billings_cnt' 3909 запись<br>\n",
    "      - у столбца 'score_1' 3507 записей<br>\n",
    "      - у столбца 'score_2' 239 записи (!!!)<br>\n",
    "</span>"
   ]
  },
  {
   "attachments": {},
   "cell_type": "markdown",
   "metadata": {},
   "source": [
    "<span style=\"color:green\">\n",
    "Переименум столбцы\n",
    "</span>"
   ]
  },
  {
   "cell_type": "code",
   "execution_count": 6,
   "metadata": {},
   "outputs": [],
   "source": [
    "columns = {'loanKey': 'loan_key', 'TraderKey': 'trader_key'}\n",
    "data = data.rename(columns=columns)"
   ]
  },
  {
   "attachments": {},
   "cell_type": "markdown",
   "metadata": {},
   "source": [
    "<span style=\"color:green\">\n",
    "'loan_key' - видимо ключ БД, описывающий отдельный займ unique values = 4157<br>\n",
    "'trader_key' - ??? unique values = 23<br>\n",
    "'first_loan' - дата первого займа<br>\n",
    "'rep_loan_date' - дата окончания займа?<br>\n",
    "'first_overdue_date' - дата первой просрочки по платежу?<br>\n",
    "'dpd_5/15/30_cnt' - кол-во просрочек в период 5/15/30 дней?<br>\n",
    "'close_loans_cnt' - количество закрытых кредитов<br>\n",
    "'federal_district_nm' - номер региона где был займ - перевести в число<br>\n",
    "'payment_type_0/1/2/3/4/5' - какой-то тип платежа по кредиту<br>\n",
    "'past_billings_cnt' - количество прошлых счетов<br>\n",
    "'score_1/2' - ???<br>\n",
    "'age' - возраст заемщика<br>\n",
    "'gender' - пол заемщика<br>\n",
    "'bad_flag' - плохой или нет заемщик<br>\n",
    "</span>"
   ]
  },
  {
   "attachments": {},
   "cell_type": "markdown",
   "metadata": {},
   "source": [
    "<span style=\"color:green\">\n",
    "Сделаем корректные типы данных в столбцах\n",
    "</span>"
   ]
  },
  {
   "cell_type": "code",
   "execution_count": 7,
   "metadata": {},
   "outputs": [],
   "source": [
    "data['rep_loan_date'] = pd.to_datetime(data['rep_loan_date'])\n",
    "data['first_loan'] = pd.to_datetime(data['first_loan'])\n",
    "data['first_overdue_date'] = pd.to_datetime(data['first_overdue_date'])\n",
    "data['dpd_5_cnt'] = data['dpd_5_cnt'].astype('Int64')\n",
    "data['dpd_15_cnt'] = data['dpd_15_cnt'].astype('Int64')\n",
    "data['dpd_30_cnt'] = data['dpd_30_cnt'].astype('Int64')\n",
    "data['close_loans_cnt'] = data['close_loans_cnt'].astype('Int64')\n",
    "data['past_billings_cnt'] = data['past_billings_cnt'].astype('Int64')\n",
    "data['age'] = data['age'].astype('Int64')\n",
    "data['gender'] = data['gender'].astype('int')\n",
    "\n",
    "region_dict = {'region_0': 0, 'region_1': 1, 'region_2': 2, 'region_3': 3, 'region_4': 4, 'region_5': 5, 'region_6': 6, 'region_7': 7}\n",
    "\n",
    "def correct_region(value):\n",
    "    if not pd.isna(value):\n",
    "        value = region_dict[value]\n",
    "    return value\n",
    "\n",
    "data['federal_district_nm'] = data['federal_district_nm'].apply(correct_region)\n",
    "data['federal_district_nm'] = data['federal_district_nm'].astype('Int64')"
   ]
  },
  {
   "attachments": {},
   "cell_type": "markdown",
   "metadata": {},
   "source": [
    "<span style=\"color:green\">\n",
    "Отдельно рассмотрим колонки с пропущенными/отсутствующими/NaN значениями\n",
    "</span>"
   ]
  },
  {
   "cell_type": "code",
   "execution_count": 8,
   "metadata": {},
   "outputs": [],
   "source": [
    "columns_1 = ['dpd_5_cnt', 'dpd_15_cnt', 'dpd_30_cnt', 'close_loans_cnt'] \n",
    "columns_2_1 = ['payment_type_0', 'payment_type_1', 'payment_type_2'] \n",
    "columns_2_2 = ['payment_type_3', 'payment_type_4', 'payment_type_5']\n",
    "columns_3 = ['past_billings_cnt', 'score_1', 'score_2', 'age', 'gender']"
   ]
  },
  {
   "cell_type": "code",
   "execution_count": 9,
   "metadata": {},
   "outputs": [
    {
     "data": {
      "text/html": [
       "<div>\n",
       "<style scoped>\n",
       "    .dataframe tbody tr th:only-of-type {\n",
       "        vertical-align: middle;\n",
       "    }\n",
       "\n",
       "    .dataframe tbody tr th {\n",
       "        vertical-align: top;\n",
       "    }\n",
       "\n",
       "    .dataframe thead th {\n",
       "        text-align: right;\n",
       "    }\n",
       "</style>\n",
       "<table border=\"1\" class=\"dataframe\">\n",
       "  <thead>\n",
       "    <tr style=\"text-align: right;\">\n",
       "      <th></th>\n",
       "      <th>dpd_5_cnt</th>\n",
       "      <th>dpd_15_cnt</th>\n",
       "      <th>dpd_30_cnt</th>\n",
       "      <th>close_loans_cnt</th>\n",
       "    </tr>\n",
       "  </thead>\n",
       "  <tbody>\n",
       "    <tr>\n",
       "      <th>count</th>\n",
       "      <td>675.000000</td>\n",
       "      <td>675.000000</td>\n",
       "      <td>675.000000</td>\n",
       "      <td>4142.000000</td>\n",
       "    </tr>\n",
       "    <tr>\n",
       "      <th>mean</th>\n",
       "      <td>1.444444</td>\n",
       "      <td>0.733333</td>\n",
       "      <td>0.280000</td>\n",
       "      <td>1.184693</td>\n",
       "    </tr>\n",
       "    <tr>\n",
       "      <th>std</th>\n",
       "      <td>0.900599</td>\n",
       "      <td>0.764572</td>\n",
       "      <td>0.502339</td>\n",
       "      <td>1.723715</td>\n",
       "    </tr>\n",
       "    <tr>\n",
       "      <th>min</th>\n",
       "      <td>0.000000</td>\n",
       "      <td>0.000000</td>\n",
       "      <td>0.000000</td>\n",
       "      <td>0.000000</td>\n",
       "    </tr>\n",
       "    <tr>\n",
       "      <th>25%</th>\n",
       "      <td>1.000000</td>\n",
       "      <td>0.000000</td>\n",
       "      <td>0.000000</td>\n",
       "      <td>0.000000</td>\n",
       "    </tr>\n",
       "    <tr>\n",
       "      <th>50%</th>\n",
       "      <td>1.000000</td>\n",
       "      <td>1.000000</td>\n",
       "      <td>0.000000</td>\n",
       "      <td>1.000000</td>\n",
       "    </tr>\n",
       "    <tr>\n",
       "      <th>75%</th>\n",
       "      <td>2.000000</td>\n",
       "      <td>1.000000</td>\n",
       "      <td>1.000000</td>\n",
       "      <td>2.000000</td>\n",
       "    </tr>\n",
       "    <tr>\n",
       "      <th>max</th>\n",
       "      <td>7.000000</td>\n",
       "      <td>5.000000</td>\n",
       "      <td>3.000000</td>\n",
       "      <td>31.000000</td>\n",
       "    </tr>\n",
       "  </tbody>\n",
       "</table>\n",
       "</div>"
      ],
      "text/plain": [
       "        dpd_5_cnt  dpd_15_cnt  dpd_30_cnt  close_loans_cnt\n",
       "count  675.000000  675.000000  675.000000      4142.000000\n",
       "mean     1.444444    0.733333    0.280000         1.184693\n",
       "std      0.900599    0.764572    0.502339         1.723715\n",
       "min      0.000000    0.000000    0.000000         0.000000\n",
       "25%      1.000000    0.000000    0.000000         0.000000\n",
       "50%      1.000000    1.000000    0.000000         1.000000\n",
       "75%      2.000000    1.000000    1.000000         2.000000\n",
       "max      7.000000    5.000000    3.000000        31.000000"
      ]
     },
     "execution_count": 9,
     "metadata": {},
     "output_type": "execute_result"
    }
   ],
   "source": [
    "data[columns_1].describe()"
   ]
  },
  {
   "cell_type": "code",
   "execution_count": 10,
   "metadata": {},
   "outputs": [
    {
     "data": {
      "text/html": [
       "<div>\n",
       "<style scoped>\n",
       "    .dataframe tbody tr th:only-of-type {\n",
       "        vertical-align: middle;\n",
       "    }\n",
       "\n",
       "    .dataframe tbody tr th {\n",
       "        vertical-align: top;\n",
       "    }\n",
       "\n",
       "    .dataframe thead th {\n",
       "        text-align: right;\n",
       "    }\n",
       "</style>\n",
       "<table border=\"1\" class=\"dataframe\">\n",
       "  <thead>\n",
       "    <tr style=\"text-align: right;\">\n",
       "      <th></th>\n",
       "      <th>payment_type_0</th>\n",
       "      <th>payment_type_1</th>\n",
       "      <th>payment_type_2</th>\n",
       "    </tr>\n",
       "  </thead>\n",
       "  <tbody>\n",
       "    <tr>\n",
       "      <th>count</th>\n",
       "      <td>4157.000000</td>\n",
       "      <td>4157.000000</td>\n",
       "      <td>4157.000000</td>\n",
       "    </tr>\n",
       "    <tr>\n",
       "      <th>mean</th>\n",
       "      <td>0.018523</td>\n",
       "      <td>0.596103</td>\n",
       "      <td>3.755834</td>\n",
       "    </tr>\n",
       "    <tr>\n",
       "      <th>std</th>\n",
       "      <td>0.330359</td>\n",
       "      <td>2.564887</td>\n",
       "      <td>3.810703</td>\n",
       "    </tr>\n",
       "    <tr>\n",
       "      <th>min</th>\n",
       "      <td>0.000000</td>\n",
       "      <td>0.000000</td>\n",
       "      <td>0.000000</td>\n",
       "    </tr>\n",
       "    <tr>\n",
       "      <th>25%</th>\n",
       "      <td>0.000000</td>\n",
       "      <td>0.000000</td>\n",
       "      <td>1.000000</td>\n",
       "    </tr>\n",
       "    <tr>\n",
       "      <th>50%</th>\n",
       "      <td>0.000000</td>\n",
       "      <td>0.000000</td>\n",
       "      <td>3.000000</td>\n",
       "    </tr>\n",
       "    <tr>\n",
       "      <th>75%</th>\n",
       "      <td>0.000000</td>\n",
       "      <td>0.000000</td>\n",
       "      <td>6.000000</td>\n",
       "    </tr>\n",
       "    <tr>\n",
       "      <th>max</th>\n",
       "      <td>15.000000</td>\n",
       "      <td>81.000000</td>\n",
       "      <td>33.000000</td>\n",
       "    </tr>\n",
       "  </tbody>\n",
       "</table>\n",
       "</div>"
      ],
      "text/plain": [
       "       payment_type_0  payment_type_1  payment_type_2\n",
       "count     4157.000000     4157.000000     4157.000000\n",
       "mean         0.018523        0.596103        3.755834\n",
       "std          0.330359        2.564887        3.810703\n",
       "min          0.000000        0.000000        0.000000\n",
       "25%          0.000000        0.000000        1.000000\n",
       "50%          0.000000        0.000000        3.000000\n",
       "75%          0.000000        0.000000        6.000000\n",
       "max         15.000000       81.000000       33.000000"
      ]
     },
     "execution_count": 10,
     "metadata": {},
     "output_type": "execute_result"
    }
   ],
   "source": [
    "data[columns_2_1].describe()"
   ]
  },
  {
   "cell_type": "code",
   "execution_count": 11,
   "metadata": {},
   "outputs": [
    {
     "data": {
      "text/html": [
       "<div>\n",
       "<style scoped>\n",
       "    .dataframe tbody tr th:only-of-type {\n",
       "        vertical-align: middle;\n",
       "    }\n",
       "\n",
       "    .dataframe tbody tr th {\n",
       "        vertical-align: top;\n",
       "    }\n",
       "\n",
       "    .dataframe thead th {\n",
       "        text-align: right;\n",
       "    }\n",
       "</style>\n",
       "<table border=\"1\" class=\"dataframe\">\n",
       "  <thead>\n",
       "    <tr style=\"text-align: right;\">\n",
       "      <th></th>\n",
       "      <th>payment_type_3</th>\n",
       "      <th>payment_type_4</th>\n",
       "      <th>payment_type_5</th>\n",
       "    </tr>\n",
       "  </thead>\n",
       "  <tbody>\n",
       "    <tr>\n",
       "      <th>count</th>\n",
       "      <td>4157.000000</td>\n",
       "      <td>4157.000000</td>\n",
       "      <td>4157.0</td>\n",
       "    </tr>\n",
       "    <tr>\n",
       "      <th>mean</th>\n",
       "      <td>0.758239</td>\n",
       "      <td>0.019485</td>\n",
       "      <td>0.0</td>\n",
       "    </tr>\n",
       "    <tr>\n",
       "      <th>std</th>\n",
       "      <td>2.212487</td>\n",
       "      <td>0.245960</td>\n",
       "      <td>0.0</td>\n",
       "    </tr>\n",
       "    <tr>\n",
       "      <th>min</th>\n",
       "      <td>0.000000</td>\n",
       "      <td>0.000000</td>\n",
       "      <td>0.0</td>\n",
       "    </tr>\n",
       "    <tr>\n",
       "      <th>25%</th>\n",
       "      <td>0.000000</td>\n",
       "      <td>0.000000</td>\n",
       "      <td>0.0</td>\n",
       "    </tr>\n",
       "    <tr>\n",
       "      <th>50%</th>\n",
       "      <td>0.000000</td>\n",
       "      <td>0.000000</td>\n",
       "      <td>0.0</td>\n",
       "    </tr>\n",
       "    <tr>\n",
       "      <th>75%</th>\n",
       "      <td>0.000000</td>\n",
       "      <td>0.000000</td>\n",
       "      <td>0.0</td>\n",
       "    </tr>\n",
       "    <tr>\n",
       "      <th>max</th>\n",
       "      <td>35.000000</td>\n",
       "      <td>7.000000</td>\n",
       "      <td>0.0</td>\n",
       "    </tr>\n",
       "  </tbody>\n",
       "</table>\n",
       "</div>"
      ],
      "text/plain": [
       "       payment_type_3  payment_type_4  payment_type_5\n",
       "count     4157.000000     4157.000000          4157.0\n",
       "mean         0.758239        0.019485             0.0\n",
       "std          2.212487        0.245960             0.0\n",
       "min          0.000000        0.000000             0.0\n",
       "25%          0.000000        0.000000             0.0\n",
       "50%          0.000000        0.000000             0.0\n",
       "75%          0.000000        0.000000             0.0\n",
       "max         35.000000        7.000000             0.0"
      ]
     },
     "execution_count": 11,
     "metadata": {},
     "output_type": "execute_result"
    }
   ],
   "source": [
    "data[columns_2_2].describe()"
   ]
  },
  {
   "cell_type": "code",
   "execution_count": 12,
   "metadata": {},
   "outputs": [
    {
     "data": {
      "text/html": [
       "<div>\n",
       "<style scoped>\n",
       "    .dataframe tbody tr th:only-of-type {\n",
       "        vertical-align: middle;\n",
       "    }\n",
       "\n",
       "    .dataframe tbody tr th {\n",
       "        vertical-align: top;\n",
       "    }\n",
       "\n",
       "    .dataframe thead th {\n",
       "        text-align: right;\n",
       "    }\n",
       "</style>\n",
       "<table border=\"1\" class=\"dataframe\">\n",
       "  <thead>\n",
       "    <tr style=\"text-align: right;\">\n",
       "      <th></th>\n",
       "      <th>past_billings_cnt</th>\n",
       "      <th>score_1</th>\n",
       "      <th>score_2</th>\n",
       "      <th>age</th>\n",
       "      <th>gender</th>\n",
       "    </tr>\n",
       "  </thead>\n",
       "  <tbody>\n",
       "    <tr>\n",
       "      <th>count</th>\n",
       "      <td>3909.000000</td>\n",
       "      <td>3507.000000</td>\n",
       "      <td>239.000000</td>\n",
       "      <td>4157.000000</td>\n",
       "      <td>4157.000000</td>\n",
       "    </tr>\n",
       "    <tr>\n",
       "      <th>mean</th>\n",
       "      <td>4.979023</td>\n",
       "      <td>578.911345</td>\n",
       "      <td>552.546610</td>\n",
       "      <td>34.561222</td>\n",
       "      <td>0.141208</td>\n",
       "    </tr>\n",
       "    <tr>\n",
       "      <th>std</th>\n",
       "      <td>3.491556</td>\n",
       "      <td>48.989869</td>\n",
       "      <td>21.492840</td>\n",
       "      <td>10.834143</td>\n",
       "      <td>0.348277</td>\n",
       "    </tr>\n",
       "    <tr>\n",
       "      <th>min</th>\n",
       "      <td>1.000000</td>\n",
       "      <td>384.220628</td>\n",
       "      <td>485.874267</td>\n",
       "      <td>18.000000</td>\n",
       "      <td>0.000000</td>\n",
       "    </tr>\n",
       "    <tr>\n",
       "      <th>25%</th>\n",
       "      <td>2.000000</td>\n",
       "      <td>547.429791</td>\n",
       "      <td>535.545724</td>\n",
       "      <td>26.000000</td>\n",
       "      <td>0.000000</td>\n",
       "    </tr>\n",
       "    <tr>\n",
       "      <th>50%</th>\n",
       "      <td>4.000000</td>\n",
       "      <td>588.531315</td>\n",
       "      <td>556.757944</td>\n",
       "      <td>32.000000</td>\n",
       "      <td>0.000000</td>\n",
       "    </tr>\n",
       "    <tr>\n",
       "      <th>75%</th>\n",
       "      <td>6.000000</td>\n",
       "      <td>612.323090</td>\n",
       "      <td>567.608057</td>\n",
       "      <td>41.000000</td>\n",
       "      <td>0.000000</td>\n",
       "    </tr>\n",
       "    <tr>\n",
       "      <th>max</th>\n",
       "      <td>21.000000</td>\n",
       "      <td>691.528420</td>\n",
       "      <td>603.311653</td>\n",
       "      <td>74.000000</td>\n",
       "      <td>1.000000</td>\n",
       "    </tr>\n",
       "  </tbody>\n",
       "</table>\n",
       "</div>"
      ],
      "text/plain": [
       "       past_billings_cnt      score_1     score_2          age       gender\n",
       "count        3909.000000  3507.000000  239.000000  4157.000000  4157.000000\n",
       "mean            4.979023   578.911345  552.546610    34.561222     0.141208\n",
       "std             3.491556    48.989869   21.492840    10.834143     0.348277\n",
       "min             1.000000   384.220628  485.874267    18.000000     0.000000\n",
       "25%             2.000000   547.429791  535.545724    26.000000     0.000000\n",
       "50%             4.000000   588.531315  556.757944    32.000000     0.000000\n",
       "75%             6.000000   612.323090  567.608057    41.000000     0.000000\n",
       "max            21.000000   691.528420  603.311653    74.000000     1.000000"
      ]
     },
     "execution_count": 12,
     "metadata": {},
     "output_type": "execute_result"
    }
   ],
   "source": [
    "data[columns_3].describe()"
   ]
  },
  {
   "attachments": {},
   "cell_type": "markdown",
   "metadata": {},
   "source": [
    "<span style=\"color:green\">\n",
    "Откровенно левых значений нет, но есть очень высокие показатели 'close_loans_cnt', 'past_billings_cnt'<br>\n",
    "Колонка 'payment_type_5' определенно не нужна\n",
    "</span>"
   ]
  },
  {
   "cell_type": "code",
   "execution_count": 13,
   "metadata": {},
   "outputs": [
    {
     "data": {
      "image/png": "[encoded data removed]",
      "text/plain": [
       "<Figure size 648x432 with 1 Axes>"
      ]
     },
     "metadata": {
      "needs_background": "light"
     },
     "output_type": "display_data"
    }
   ],
   "source": [
    "data['close_loans_cnt'].hist(bins=32, figsize=(9,6));\n",
    "plt.show()"
   ]
  },
  {
   "attachments": {},
   "cell_type": "markdown",
   "metadata": {},
   "source": [
    "<span style=\"color:green\">\n",
    "'close_loans_cnt' - рапределение пуассоновское, можно дозаполнить медианным значением\n",
    "</span>"
   ]
  },
  {
   "cell_type": "code",
   "execution_count": 14,
   "metadata": {},
   "outputs": [
    {
     "data": {
      "image/png": "[encoded data removed]",
      "text/plain": [
       "<Figure size 648x432 with 1 Axes>"
      ]
     },
     "metadata": {
      "needs_background": "light"
     },
     "output_type": "display_data"
    }
   ],
   "source": [
    "data['past_billings_cnt'].hist(bins=32, figsize=(9,6));\n",
    "plt.show()"
   ]
  },
  {
   "attachments": {},
   "cell_type": "markdown",
   "metadata": {},
   "source": [
    "<span style=\"color:green\">\n",
    "'past_billings_cnt' - рапределение пуассоновское, можно дозаполнить медианным значением\n",
    "</span>"
   ]
  },
  {
   "cell_type": "code",
   "execution_count": 15,
   "metadata": {},
   "outputs": [
    {
     "data": {
      "image/png": "[encoded data removed]",
      "text/plain": [
       "<Figure size 648x432 with 1 Axes>"
      ]
     },
     "metadata": {
      "needs_background": "light"
     },
     "output_type": "display_data"
    }
   ],
   "source": [
    "data['score_1'].hist(bins=50, figsize=(9,6))\n",
    "plt.show()"
   ]
  },
  {
   "attachments": {},
   "cell_type": "markdown",
   "metadata": {},
   "source": [
    "<span style=\"color:green\">\n",
    "'score_1' - Похоже на гамма-распределение\n",
    "</span>"
   ]
  },
  {
   "cell_type": "code",
   "execution_count": 16,
   "metadata": {},
   "outputs": [
    {
     "data": {
      "image/png": "[encoded data removed]",
      "text/plain": [
       "<Figure size 648x432 with 1 Axes>"
      ]
     },
     "metadata": {
      "needs_background": "light"
     },
     "output_type": "display_data"
    }
   ],
   "source": [
    "data['score_2'].hist(bins=50, figsize=(9,6))\n",
    "plt.show()"
   ]
  },
  {
   "attachments": {},
   "cell_type": "markdown",
   "metadata": {},
   "source": [
    "<span style=\"color:green\">\n",
    "'score_2' - слишком разреженное множество значений, принимать в рассмотрение не будем\n",
    "</span>"
   ]
  },
  {
   "attachments": {},
   "cell_type": "markdown",
   "metadata": {},
   "source": [
    "<span style=\"color:green\">\n",
    "Заполним отсутсвующие значения в 'close_loans_cnt', 'past_billings_cnt' и 'score_1' \n",
    "</span>"
   ]
  },
  {
   "cell_type": "code",
   "execution_count": 17,
   "metadata": {},
   "outputs": [],
   "source": [
    "median = data['close_loans_cnt'].median()\n",
    "data['close_loans_cnt'] = data['close_loans_cnt'].fillna(median)\n",
    "\n",
    "median = data['past_billings_cnt'].median()\n",
    "data['past_billings_cnt'] = data['past_billings_cnt'].fillna(median)\n",
    "\n",
    "median = data['score_1'].median()\n",
    "data['score_1'] = data['score_1'].fillna(median)"
   ]
  },
  {
   "attachments": {},
   "cell_type": "markdown",
   "metadata": {},
   "source": [
    "<span style=\"color:green\">\n",
    "Введем колонки 'rep_loan_date'-'first_loan_date' и 'first_overdue_date'-'first_loan_date'<br>\n",
    "Но сначал проверим, что нет аномальных выбросов по временным промежуткам\n",
    "</span>"
   ]
  },
  {
   "cell_type": "code",
   "execution_count": 18,
   "metadata": {},
   "outputs": [
    {
     "name": "stdout",
     "output_type": "stream",
     "text": [
      "Empty DataFrame\n",
      "Columns: [loan_key, rep_loan_date, first_loan, dpd_5_cnt, dpd_15_cnt, dpd_30_cnt, first_overdue_date, close_loans_cnt, federal_district_nm, trader_key, payment_type_0, payment_type_1, payment_type_2, payment_type_3, payment_type_4, payment_type_5, past_billings_cnt, score_1, score_2, age, gender, bad_flag]\n",
      "Index: []\n",
      "\n",
      "[0 rows x 22 columns]\n",
      "Empty DataFrame\n",
      "Columns: [loan_key, rep_loan_date, first_loan, dpd_5_cnt, dpd_15_cnt, dpd_30_cnt, first_overdue_date, close_loans_cnt, federal_district_nm, trader_key, payment_type_0, payment_type_1, payment_type_2, payment_type_3, payment_type_4, payment_type_5, past_billings_cnt, score_1, score_2, age, gender, bad_flag]\n",
      "Index: []\n",
      "\n",
      "[0 rows x 22 columns]\n",
      "Empty DataFrame\n",
      "Columns: [loan_key, rep_loan_date, first_loan, dpd_5_cnt, dpd_15_cnt, dpd_30_cnt, first_overdue_date, close_loans_cnt, federal_district_nm, trader_key, payment_type_0, payment_type_1, payment_type_2, payment_type_3, payment_type_4, payment_type_5, past_billings_cnt, score_1, score_2, age, gender, bad_flag]\n",
      "Index: []\n",
      "\n",
      "[0 rows x 22 columns]\n"
     ]
    }
   ],
   "source": [
    "check_1 = data.query('rep_loan_date < first_loan')\n",
    "check_2 = data.query('first_overdue_date < first_loan')\n",
    "check_3 = data.query('rep_loan_date < first_overdue_date')\n",
    "print(check_1)\n",
    "print(check_2)\n",
    "print(check_3)"
   ]
  },
  {
   "attachments": {},
   "cell_type": "markdown",
   "metadata": {},
   "source": [
    "<span style=\"color:green\">\n",
    "К счастью, таких аномалий не нашлось, но есть first_overdue_date == NaN\n",
    "</span>"
   ]
  },
  {
   "cell_type": "code",
   "execution_count": 19,
   "metadata": {},
   "outputs": [
    {
     "name": "stdout",
     "output_type": "stream",
     "text": [
      "0\n",
      "3482\n",
      "3197\n",
      "543\n",
      "285\n",
      "132\n",
      "0\n"
     ]
    }
   ],
   "source": [
    "print(len(data.query('first_loan.isnull()')))\n",
    "print(len(data.query('first_overdue_date.isnull()'))) # у нас тут 3482 NaN значений\n",
    "print(len(data.query('first_overdue_date.isnull() & bad_flag == 0'))) # 3197 значений\n",
    "print(len(data.query('first_overdue_date.notnull() & bad_flag == 0'))) # 543 значений\n",
    "print(len(data.query('first_overdue_date.isnull() & bad_flag == 1'))) # 285 значений\n",
    "print(len(data.query('first_overdue_date.notnull() & bad_flag == 1'))) # 132 значений\n",
    "print(len(data.query('rep_loan_date.isnull()')))"
   ]
  },
  {
   "cell_type": "code",
   "execution_count": 20,
   "metadata": {},
   "outputs": [
    {
     "name": "stdout",
     "output_type": "stream",
     "text": [
      "3482\n"
     ]
    }
   ],
   "source": [
    "print(len(data.query('dpd_5_cnt.isnull() & dpd_15_cnt.isnull() & dpd_30_cnt.isnull() & first_overdue_date.isnull()')))"
   ]
  },
  {
   "attachments": {},
   "cell_type": "markdown",
   "metadata": {},
   "source": [
    "<span style=\"color:green\">\n",
    "Получается, что dpd_xx_cnt равен NaN, если просрочек не было\n",
    "</span>"
   ]
  },
  {
   "attachments": {},
   "cell_type": "markdown",
   "metadata": {},
   "source": [
    "<span style=\"color:green\">\n",
    "Таким образом, заполним NaN занчения оставшихся столбцов\n",
    "</span>"
   ]
  },
  {
   "cell_type": "code",
   "execution_count": 21,
   "metadata": {},
   "outputs": [],
   "source": [
    "def overdue_replace_nan(row):\n",
    "    if pd.isna(row['first_overdue_date']):\n",
    "        row['first_overdue_date'] = row['rep_loan_date']\n",
    "    return row\n",
    "\n",
    "data = data.apply(overdue_replace_nan, axis=1)\n",
    "\n",
    "data['credit_dur'] = (data['rep_loan_date'] - data['first_loan']).astype('timedelta64[D]')\n",
    "data['credit_dur'] = data['credit_dur'].astype('int32')\n",
    "\n",
    "data['first_overdue_dur'] = (data['first_overdue_date'] - data['first_loan']).astype('timedelta64[D]')\n",
    "data['first_overdue_dur'] = data['first_overdue_dur'].astype('int32')\n",
    "\n",
    "data['dpd_5_cnt'] = data['dpd_5_cnt'].fillna(0)\n",
    "data['dpd_15_cnt'] = data['dpd_15_cnt'].fillna(0)\n",
    "data['dpd_30_cnt'] = data['dpd_30_cnt'].fillna(0)"
   ]
  },
  {
   "attachments": {},
   "cell_type": "markdown",
   "metadata": {},
   "source": [
    "<span style=\"color:green\">\n",
    "Подготовим таблицу для дальнейшего анализа\n",
    "</span>"
   ]
  },
  {
   "cell_type": "code",
   "execution_count": 22,
   "metadata": {},
   "outputs": [],
   "source": [
    "working_columns = ['credit_dur', 'first_overdue_dur', 'dpd_5_cnt', 'dpd_15_cnt', 'dpd_30_cnt', \n",
    "                    'close_loans_cnt', 'payment_type_0', 'payment_type_1', \n",
    "                    'payment_type_2', 'payment_type_3', 'payment_type_4', 'past_billings_cnt', \n",
    "                    'score_1', 'age', 'gender', 'bad_flag']\n",
    "\n",
    "refine_data = data[working_columns]"
   ]
  },
  {
   "attachments": {},
   "cell_type": "markdown",
   "metadata": {},
   "source": [
    "<span style=\"color:green\">\n",
    "Проведем анализ мультиколлинеарности столбцов между собой\n",
    "</span>"
   ]
  },
  {
   "cell_type": "code",
   "execution_count": 23,
   "metadata": {},
   "outputs": [
    {
     "name": "stdout",
     "output_type": "stream",
     "text": [
      "                         VIF  Tolerance\n",
      "credit_dur         13.637892   0.073325\n",
      "first_overdue_dur  11.113027   0.089984\n",
      "dpd_5_cnt           3.538737   0.282587\n",
      "dpd_15_cnt          3.032830   0.329725\n",
      "dpd_30_cnt          1.726758   0.579120\n",
      "close_loans_cnt     2.420430   0.413150\n",
      "payment_type_0      1.017190   0.983101\n",
      "payment_type_1      1.784810   0.560284\n",
      "payment_type_2      5.252333   0.190392\n",
      "payment_type_3      2.254354   0.443586\n",
      "payment_type_4      1.030301   0.970591\n",
      "past_billings_cnt   6.773297   0.147639\n",
      "score_1             1.159742   0.862260\n",
      "age                 1.070098   0.934494\n",
      "gender              1.061582   0.941990\n",
      "bad_flag            1.101650   0.907729\n"
     ]
    }
   ],
   "source": [
    "def get_vif(df, spec_features):\n",
    "    vif, tolerance = {}, {}\n",
    "    for spf in spec_features:\n",
    "        X = [x for x in spec_features if x != spf]\n",
    "        X, y = df[X], df[spf]\n",
    "\n",
    "        r2 = LinearRegression().fit(X, y).score(X, y)\n",
    "        tolerance[spf] = 1-r2\n",
    "        vif[spf] = 1 / (tolerance[spf])\n",
    "\n",
    "    return pd.DataFrame({'VIF': vif, 'Tolerance': tolerance})\n",
    "\n",
    "result = get_vif(refine_data, working_columns)\n",
    "print(result)"
   ]
  },
  {
   "attachments": {},
   "cell_type": "markdown",
   "metadata": {},
   "source": [
    "<span style=\"color:green\">\n",
    "Выберем значения с наибольшим VIF\n",
    "</span>"
   ]
  },
  {
   "cell_type": "code",
   "execution_count": 24,
   "metadata": {},
   "outputs": [
    {
     "name": "stdout",
     "output_type": "stream",
     "text": [
      "                         VIF  Tolerance\n",
      "credit_dur         13.505508   0.074044\n",
      "first_overdue_dur  11.018556   0.090756\n",
      "past_billings_cnt   4.924894   0.203050\n",
      "payment_type_2      2.002002   0.499500\n",
      "dpd_5_cnt           3.486461   0.286824\n",
      "dpd_15_cnt          2.263233   0.441846\n",
      "close_loans_cnt     2.165436   0.461801\n"
     ]
    }
   ],
   "source": [
    "look_closely = ['credit_dur', 'first_overdue_dur', 'past_billings_cnt', 'payment_type_2', 'dpd_5_cnt', 'dpd_15_cnt', 'close_loans_cnt']\n",
    "print(get_vif(refine_data, look_closely))"
   ]
  },
  {
   "cell_type": "code",
   "execution_count": 25,
   "metadata": {},
   "outputs": [
    {
     "name": "stdout",
     "output_type": "stream",
     "text": [
      "                        VIF  Tolerance\n",
      "first_overdue_dur  2.800750   0.357047\n",
      "past_billings_cnt  4.480779   0.223175\n",
      "payment_type_2     2.001625   0.499594\n",
      "dpd_5_cnt          2.533142   0.394767\n",
      "dpd_15_cnt         2.259540   0.442568\n",
      "close_loans_cnt    2.159260   0.463122\n"
     ]
    }
   ],
   "source": [
    "# Исключим 'credit_dur'\n",
    "look_closely = ['first_overdue_dur', 'past_billings_cnt', 'payment_type_2', 'dpd_5_cnt', 'dpd_15_cnt', 'close_loans_cnt']\n",
    "print(get_vif(refine_data, look_closely))"
   ]
  },
  {
   "cell_type": "code",
   "execution_count": 26,
   "metadata": {},
   "outputs": [
    {
     "name": "stdout",
     "output_type": "stream",
     "text": [
      "                        VIF  Tolerance\n",
      "credit_dur         3.432895   0.291299\n",
      "past_billings_cnt  4.924313   0.203074\n",
      "payment_type_2     2.000578   0.499855\n",
      "dpd_5_cnt          2.302407   0.434328\n",
      "dpd_15_cnt         2.254562   0.443545\n",
      "close_loans_cnt    2.165418   0.461805\n"
     ]
    }
   ],
   "source": [
    "# Исключим 'first_overdue_dur'\n",
    "look_closely = ['credit_dur', 'past_billings_cnt', 'payment_type_2', 'dpd_5_cnt', 'dpd_15_cnt', 'close_loans_cnt']\n",
    "print(get_vif(refine_data, look_closely))"
   ]
  },
  {
   "attachments": {},
   "cell_type": "markdown",
   "metadata": {},
   "source": [
    "<span style=\"color:green\">\n",
    "Если удалить 'credit_dur' - то VIF в целом сильнее упадет\n",
    "</span>"
   ]
  },
  {
   "cell_type": "code",
   "execution_count": 27,
   "metadata": {},
   "outputs": [
    {
     "name": "stdout",
     "output_type": "stream",
     "text": [
      "                        VIF  Tolerance\n",
      "first_overdue_dur  1.916563   0.521767\n",
      "payment_type_2     1.688040   0.592403\n",
      "dpd_5_cnt          2.383811   0.419496\n",
      "dpd_15_cnt         2.258177   0.442835\n",
      "close_loans_cnt    1.757339   0.569042\n"
     ]
    }
   ],
   "source": [
    "# Исключим 'past_billings_cnt'\n",
    "look_closely = ['first_overdue_dur', 'payment_type_2', 'dpd_5_cnt', 'dpd_15_cnt', 'close_loans_cnt']\n",
    "print(get_vif(refine_data, look_closely))"
   ]
  },
  {
   "cell_type": "code",
   "execution_count": 28,
   "metadata": {},
   "outputs": [
    {
     "name": "stdout",
     "output_type": "stream",
     "text": [
      "                        VIF  Tolerance\n",
      "first_overdue_dur  2.780075   0.359702\n",
      "past_billings_cnt  3.646735   0.274218\n",
      "payment_type_2     1.997920   0.500521\n",
      "dpd_5_cnt          2.532980   0.394792\n",
      "dpd_15_cnt         2.255220   0.443416\n"
     ]
    }
   ],
   "source": [
    "# Исключим 'close_loans_cnt'\n",
    "look_closely = ['first_overdue_dur', 'past_billings_cnt', 'payment_type_2', 'dpd_5_cnt', 'dpd_15_cnt']\n",
    "print(get_vif(refine_data, look_closely))"
   ]
  },
  {
   "cell_type": "code",
   "execution_count": 29,
   "metadata": {},
   "outputs": [
    {
     "name": "stdout",
     "output_type": "stream",
     "text": [
      "                        VIF  Tolerance\n",
      "first_overdue_dur  2.539795   0.393733\n",
      "past_billings_cnt  4.216634   0.237156\n",
      "payment_type_2     1.997244   0.500690\n",
      "dpd_15_cnt         1.210778   0.825915\n",
      "close_loans_cnt    2.159122   0.463151\n"
     ]
    }
   ],
   "source": [
    "# Исключим 'dpd_5_cnt'\n",
    "look_closely = ['first_overdue_dur', 'past_billings_cnt', 'payment_type_2', 'dpd_15_cnt', 'close_loans_cnt']\n",
    "print(get_vif(refine_data, look_closely))"
   ]
  },
  {
   "cell_type": "code",
   "execution_count": 30,
   "metadata": {},
   "outputs": [
    {
     "name": "stdout",
     "output_type": "stream",
     "text": [
      "                        VIF  Tolerance\n",
      "dpd_15_cnt         2.253044   0.443844\n",
      "past_billings_cnt  3.066214   0.326135\n",
      "payment_type_2     1.989946   0.502526\n",
      "dpd_5_cnt          2.297121   0.435328\n",
      "close_loans_cnt    2.143321   0.466566\n"
     ]
    }
   ],
   "source": [
    "# Исключим 'close_loans_cnt'\n",
    "look_closely = ['dpd_15_cnt', 'past_billings_cnt', 'payment_type_2', 'dpd_5_cnt', 'close_loans_cnt']\n",
    "print(get_vif(refine_data, look_closely))"
   ]
  },
  {
   "cell_type": "code",
   "execution_count": 31,
   "metadata": {},
   "outputs": [
    {
     "name": "stdout",
     "output_type": "stream",
     "text": [
      "                        VIF  Tolerance\n",
      "first_overdue_dur  2.784407   0.359143\n",
      "past_billings_cnt  3.778797   0.264634\n",
      "dpd_5_cnt          2.527597   0.395633\n",
      "dpd_15_cnt         2.259525   0.442571\n",
      "close_loans_cnt    2.155263   0.463981\n"
     ]
    }
   ],
   "source": [
    "# Исключим 'payment_type_2'\n",
    "look_closely = ['first_overdue_dur', 'past_billings_cnt', 'dpd_5_cnt', 'dpd_15_cnt', 'close_loans_cnt']\n",
    "print(get_vif(refine_data, look_closely))"
   ]
  },
  {
   "attachments": {},
   "cell_type": "markdown",
   "metadata": {},
   "source": [
    "<span style=\"color:green\">\n",
    "В итоге, имеет смысл удалить еще 'past_billings_cnt', 'dpd_5_cnt'<br>\n",
    "</span>"
   ]
  },
  {
   "cell_type": "code",
   "execution_count": 32,
   "metadata": {},
   "outputs": [],
   "source": [
    "refine_data = refine_data.drop(['credit_dur', 'past_billings_cnt', 'dpd_5_cnt'], axis=1)"
   ]
  },
  {
   "attachments": {},
   "cell_type": "markdown",
   "metadata": {},
   "source": [
    "<span style=\"color:green\">\n",
    "Теперь посмотрим, имеет ли место смещение в значениях колонки 'bad_flag'\n",
    "</span>"
   ]
  },
  {
   "cell_type": "code",
   "execution_count": 33,
   "metadata": {},
   "outputs": [
    {
     "name": "stdout",
     "output_type": "stream",
     "text": [
      "Количество нулей: 3740,  количество единиц: 417\n"
     ]
    }
   ],
   "source": [
    "zeros_bad_data = refine_data.query('bad_flag == 0')\n",
    "ones_bad_data = refine_data.query('bad_flag == 1')\n",
    "\n",
    "zeros_bad = len(zeros_bad_data)\n",
    "ones_bad = len(ones_bad_data)\n",
    "\n",
    "print(f\"Количество нулей: {zeros_bad},  количество единиц: {ones_bad}\")"
   ]
  },
  {
   "attachments": {},
   "cell_type": "markdown",
   "metadata": {},
   "source": [
    "<span style=\"color:green\">\n",
    "Смещение в данных колоссальное. Попробуем выровнять его, \"размножив\" строки с bad_flag == 1\n",
    "</span>"
   ]
  },
  {
   "cell_type": "code",
   "execution_count": 34,
   "metadata": {},
   "outputs": [],
   "source": [
    "ones_upsample = resample(ones_bad_data, n_samples=zeros_bad, replace=True, random_state=123)\n",
    "refine_data = np.concatenate([zeros_bad_data, ones_upsample])\n",
    "refine_data = shuffle(refine_data, random_state=123)"
   ]
  },
  {
   "cell_type": "code",
   "execution_count": 35,
   "metadata": {},
   "outputs": [],
   "source": [
    "refine_data = pd.DataFrame(refine_data, columns=['first_overdue_dur', 'dpd_15_cnt', 'dpd_30_cnt', \n",
    "                    'close_loans_cnt', 'payment_type_0', 'payment_type_1', \n",
    "                    'payment_type_2', 'payment_type_3', 'payment_type_4', \n",
    "                    'score_1', 'age', 'gender', 'bad_flag'])"
   ]
  },
  {
   "attachments": {},
   "cell_type": "markdown",
   "metadata": {},
   "source": [
    "<span style=\"color:green\">\n",
    "Выделим часть с признаками и целевым значением\n",
    "</span>"
   ]
  },
  {
   "cell_type": "code",
   "execution_count": 36,
   "metadata": {},
   "outputs": [],
   "source": [
    "features = refine_data.drop(['bad_flag'], axis=1)\n",
    "target = refine_data['bad_flag']\n",
    "\n",
    "features_train, features_test, target_train, target_test = train_test_split(features, target, test_size=0.2, stratify=target, random_state=123)"
   ]
  },
  {
   "attachments": {},
   "cell_type": "markdown",
   "metadata": {},
   "source": [
    "<span style=\"color:green\">\n",
    "Далее применим для решения задачи нахождения значения параметра bad_flag следующие методы: LogisticRegression, SGDRegression, Support Vector Cluster и CatBoost\n",
    "</span>"
   ]
  },
  {
   "cell_type": "code",
   "execution_count": 37,
   "metadata": {},
   "outputs": [],
   "source": [
    "scaler = StandardScaler()\n",
    "features_train = scaler.fit_transform(features_train)\n",
    "features_test = scaler.transform(features_test)"
   ]
  },
  {
   "attachments": {},
   "cell_type": "markdown",
   "metadata": {},
   "source": [
    "<span style=\"color:green\">\n",
    "<b>LOGISTIC REGRESSION</b>\n",
    "</span>"
   ]
  },
  {
   "cell_type": "code",
   "execution_count": 38,
   "metadata": {},
   "outputs": [
    {
     "name": "stdout",
     "output_type": "stream",
     "text": [
      "Validation ACC scores: [0.70342523 0.69924812 0.71512114 0.73433584 0.73411371], mean ACC validation score: 0.7172488076378236\n"
     ]
    }
   ],
   "source": [
    "model_logreg = LogisticRegressionCV(solver='liblinear', random_state=123)\n",
    "model_logreg.fit(features_train, target_train)\n",
    "\n",
    "# Используем кросс-валидацию\n",
    "scores = cross_val_score(model_logreg, features_train, target_train, cv=5, scoring='accuracy')\n",
    "print(f'Validation ACC scores: {scores}, mean ACC validation score: {np.mean(scores)}')"
   ]
  },
  {
   "attachments": {},
   "cell_type": "markdown",
   "metadata": {},
   "source": [
    "<span style=\"color:green\">\n",
    "Точность все-таки очень низкая, поэтому будем рассматривать другие регрессионные модели\n",
    "</span>"
   ]
  },
  {
   "attachments": {},
   "cell_type": "markdown",
   "metadata": {},
   "source": [
    "<span style=\"color:green\">\n",
    "Построим ROC_AUC график для линейной регрессии\n",
    "</span>"
   ]
  },
  {
   "cell_type": "code",
   "execution_count": 39,
   "metadata": {},
   "outputs": [
    {
     "name": "stdout",
     "output_type": "stream",
     "text": [
      "AUC value: 0.7753349395178586\n"
     ]
    },
    {
     "data": {
      "image/png": "[encoded data removed]",
      "text/plain": [
       "<Figure size 432x288 with 1 Axes>"
      ]
     },
     "metadata": {
      "needs_background": "light"
     },
     "output_type": "display_data"
    }
   ],
   "source": [
    "probs = model_logreg.predict_proba(features_test)\n",
    "preds = probs[:,1]\n",
    "\n",
    "fpr_logreg, tpr_logreg, threshold = roc_curve(target_test, preds)\n",
    "auc_value_logreg = auc(fpr_logreg, tpr_logreg)\n",
    "\n",
    "print(f\"AUC value: {auc_value_logreg}\")\n",
    "\n",
    "plt.plot(fpr_logreg, tpr_logreg, 'b')\n",
    "plt.plot([0,1],[0,1],'r--')\n",
    "plt.xlim([0,1])\n",
    "plt.ylim([0,1])\n",
    "plt.xlabel(\"False positive rate\")\n",
    "plt.ylabel(\"True positive rate\")\n",
    "plt.show()"
   ]
  },
  {
   "attachments": {},
   "cell_type": "markdown",
   "metadata": {},
   "source": [
    "<span style=\"color:green\">\n",
    "ROC_AUC график для линейной регрессии также показывает не самую лучшую работу регрессора.\n",
    "</span>"
   ]
  },
  {
   "attachments": {},
   "cell_type": "markdown",
   "metadata": {},
   "source": [
    "<span style=\"color:green\">\n",
    "<b>STOCHASTIC REGRESSION</b>\n",
    "</span>"
   ]
  },
  {
   "cell_type": "code",
   "execution_count": 42,
   "metadata": {},
   "outputs": [
    {
     "name": "stdout",
     "output_type": "stream",
     "text": [
      "Validation ACC scores: [0.68170426 0.68421053 0.71512114 0.7176274  0.69983278], mean ACC validation score: 0.6996992201797694\n"
     ]
    }
   ],
   "source": [
    "model_sgdclass = SGDClassifier(random_state=123, penalty='l1', loss='log_loss')\n",
    "model_sgdclass.fit(features_train, target_train)\n",
    "\n",
    "scores = cross_val_score(model_sgdclass, features_train, target_train, cv=5, scoring='accuracy')\n",
    "\n",
    "print(f'Validation ACC scores: {scores}, mean ACC validation score: {np.mean(scores)}')"
   ]
  },
  {
   "attachments": {},
   "cell_type": "markdown",
   "metadata": {},
   "source": [
    "<span style=\"color:green\">\n",
    "Построим ROC_AUC график для стохастического классификатора\n",
    "</span>"
   ]
  },
  {
   "cell_type": "code",
   "execution_count": 43,
   "metadata": {},
   "outputs": [
    {
     "name": "stdout",
     "output_type": "stream",
     "text": [
      "AUC value: 0.7663537704824274\n"
     ]
    },
    {
     "data": {
      "image/png": "[encoded data removed]",
      "text/plain": [
       "<Figure size 432x288 with 1 Axes>"
      ]
     },
     "metadata": {
      "needs_background": "light"
     },
     "output_type": "display_data"
    }
   ],
   "source": [
    "probs = model_sgdclass.predict_proba(features_test)\n",
    "preds = probs[:,1]\n",
    "\n",
    "fpr_sgd, tpr_sgd, threshold = roc_curve(target_test, preds)\n",
    "auc_value_sgd = auc(fpr_sgd, tpr_sgd)\n",
    "\n",
    "print(f\"AUC value: {auc_value_sgd}\")\n",
    "\n",
    "plt.plot(fpr_sgd, tpr_sgd, 'b')\n",
    "plt.plot([0,1],[0,1],'r--')\n",
    "plt.xlim([0,1])\n",
    "plt.ylim([0,1])\n",
    "plt.xlabel(\"False positive rate\")\n",
    "plt.ylabel(\"True positive rate\")\n",
    "plt.show()"
   ]
  },
  {
   "attachments": {},
   "cell_type": "markdown",
   "metadata": {},
   "source": [
    "<span style=\"color:green\">\n",
    "В целом, по значению средней акууратности на кросс-валидации, SGD работет даже хуже обычной линейной регрессии, поэтому в дальнейшем, SGD, тем более, не будет рассматриваться как рабочий алгоритм\n",
    "</span>"
   ]
  },
  {
   "attachments": {},
   "cell_type": "markdown",
   "metadata": {},
   "source": [
    "<span style=\"color:green\">\n",
    "<b>SUPPORT VECTOR CLUSTER</b>\n",
    "</span>"
   ]
  },
  {
   "cell_type": "code",
   "execution_count": 44,
   "metadata": {},
   "outputs": [
    {
     "name": "stdout",
     "output_type": "stream",
     "text": [
      "SVC linear best params: {'C': 1, 'tol': 0.0005}\n",
      "SVC linear best score: 0.711900570825056\n"
     ]
    }
   ],
   "source": [
    "# Linear kernel\n",
    "model_scv_linear = SVC(kernel='linear', probability=True)\n",
    "params_svc_linear = {'tol': np.arange(0.0005,0.002,0.0001), 'C': [0.1, 1]}\n",
    "grid_search_svc_linear = GridSearchCV(model_scv_linear, params_svc_linear, cv=5, scoring='accuracy')\n",
    "grid_search_svc_linear.fit(features_train, target_train)\n",
    "\n",
    "svc_linear_params = grid_search_svc_linear.best_params_\n",
    "svc_linear_acc = grid_search_svc_linear.best_score_\n",
    "print(f'SVC linear best params: {svc_linear_params}')\n",
    "print(f'SVC linear best score: {svc_linear_acc}')"
   ]
  },
  {
   "attachments": {},
   "cell_type": "markdown",
   "metadata": {},
   "source": [
    "<span style=\"color:green\">\n",
    "Результат SVC кластеризатора с линейным ядром также мало ушел от обычной линейной регрессии, однако построим также и ROC-AUC кривую\n",
    "</span>"
   ]
  },
  {
   "cell_type": "code",
   "execution_count": 45,
   "metadata": {},
   "outputs": [
    {
     "name": "stdout",
     "output_type": "stream",
     "text": [
      "AUC value: 0.774275965855472\n"
     ]
    },
    {
     "data": {
      "image/png": "[encoded data removed]",
      "text/plain": [
       "<Figure size 432x288 with 1 Axes>"
      ]
     },
     "metadata": {
      "needs_background": "light"
     },
     "output_type": "display_data"
    }
   ],
   "source": [
    "test_svc_mod = SVC(kernel='linear', probability=True, tol=svc_linear_params['tol'], C=svc_linear_params['C'])\n",
    "test_svc_mod.fit(features_train, target_train)\n",
    "probs = test_svc_mod.predict_proba(features_test)\n",
    "preds = probs[:,1]\n",
    "\n",
    "fpr_sgd, tpr_sgd, threshold = roc_curve(target_test, preds)\n",
    "auc_value_sgd = auc(fpr_sgd, tpr_sgd)\n",
    "\n",
    "print(f\"AUC value: {auc_value_sgd}\")\n",
    "\n",
    "plt.plot(fpr_sgd, tpr_sgd, 'b')\n",
    "plt.plot([0,1],[0,1],'r--')\n",
    "plt.xlim([0,1])\n",
    "plt.ylim([0,1])\n",
    "plt.xlabel(\"False positive rate\")\n",
    "plt.ylabel(\"True positive rate\")\n",
    "plt.show()"
   ]
  },
  {
   "attachments": {},
   "cell_type": "markdown",
   "metadata": {},
   "source": [
    "<span style=\"color:green\">\n",
    "Теперь попробуем SVC кластеризатор с rbf ядром\n",
    "</span>"
   ]
  },
  {
   "cell_type": "code",
   "execution_count": 46,
   "metadata": {},
   "outputs": [
    {
     "name": "stdout",
     "output_type": "stream",
     "text": [
      "SVC rbf best params: {'C': 1, 'gamma': 0.11}\n",
      "SVC rbf best score: 0.7622026079691984\n"
     ]
    }
   ],
   "source": [
    "# RBF kernel\n",
    "model_scv_rbf = SVC(kernel='rbf', probability=True)\n",
    "params_svc_rbf = {'C': [0.1, 1], 'gamma': np.arange(0.01,0.12,0.01)}\n",
    "grid_search_svc_rbf = GridSearchCV(model_scv_rbf, params_svc_rbf, cv=5, scoring='accuracy')\n",
    "grid_search_svc_rbf.fit(features_train, target_train)\n",
    "\n",
    "svc_rbf_params = grid_search_svc_rbf.best_params_\n",
    "svc_rbf_acc = grid_search_svc_rbf.best_score_\n",
    "print(f'SVC rbf best params: {svc_rbf_params}')\n",
    "print(f'SVC rbf best score: {svc_rbf_acc}')"
   ]
  },
  {
   "attachments": {},
   "cell_type": "markdown",
   "metadata": {},
   "source": [
    "<span style=\"color:green\">\n",
    "Результат лучше, чем у SVC кластеризатора с линейным ядром, но все равно не слишком хороший<br/>\n",
    "ROC-AUC график\n",
    "</span>"
   ]
  },
  {
   "cell_type": "code",
   "execution_count": 47,
   "metadata": {},
   "outputs": [
    {
     "name": "stdout",
     "output_type": "stream",
     "text": [
      "AUC value: 0.8322505290400068\n"
     ]
    },
    {
     "data": {
      "image/png": "[encoded data removed]",
      "text/plain": [
       "<Figure size 432x288 with 1 Axes>"
      ]
     },
     "metadata": {
      "needs_background": "light"
     },
     "output_type": "display_data"
    }
   ],
   "source": [
    "test_svc_mod = SVC(kernel='rbf', probability=True, gamma=svc_rbf_params['gamma'], C=svc_rbf_params['C'])\n",
    "test_svc_mod.fit(features_train, target_train)\n",
    "probs = test_svc_mod.predict_proba(features_test)\n",
    "preds = probs[:,1]\n",
    "\n",
    "fpr_sgd, tpr_sgd, threshold = roc_curve(target_test, preds)\n",
    "auc_value_sgd = auc(fpr_sgd, tpr_sgd)\n",
    "\n",
    "print(f\"AUC value: {auc_value_sgd}\")\n",
    "\n",
    "plt.plot(fpr_sgd, tpr_sgd, 'b')\n",
    "plt.plot([0,1],[0,1],'r--')\n",
    "plt.xlim([0,1])\n",
    "plt.ylim([0,1])\n",
    "plt.xlabel(\"False positive rate\")\n",
    "plt.ylabel(\"True positive rate\")\n",
    "plt.show()"
   ]
  },
  {
   "attachments": {},
   "cell_type": "markdown",
   "metadata": {},
   "source": [
    "<span style=\"color:green\">\n",
    "Теперь попробуем SVC кластеризатор с полиномиальным ядром\n",
    "</span>"
   ]
  },
  {
   "cell_type": "code",
   "execution_count": 48,
   "metadata": {},
   "outputs": [
    {
     "name": "stdout",
     "output_type": "stream",
     "text": [
      "SVC poly best params: {'C': 1, 'coef0': 1, 'degree': 4, 'gamma': 0.11}\n",
      "SVC poly best score: 0.7799152284278142\n"
     ]
    }
   ],
   "source": [
    "# POLY kernel\n",
    "model_scv_poly = SVC(kernel='poly', probability=True)\n",
    "params_svc_poly = {'C': [1], 'gamma': np.arange(0.01,0.12,0.01), 'degree': [2,3,4], 'coef0': [0.001, 0.01, 0.1, 1]}\n",
    "grid_search_svc_poly = GridSearchCV(model_scv_poly, params_svc_poly, cv=5, scoring='accuracy')\n",
    "grid_search_svc_poly.fit(features_train, target_train)\n",
    "\n",
    "svc_poly_params = grid_search_svc_poly.best_params_\n",
    "svc_poly_acc = grid_search_svc_poly.best_score_\n",
    "print(f'SVC poly best params: {svc_poly_params}')\n",
    "print(f'SVC poly best score: {svc_poly_acc}')"
   ]
  },
  {
   "attachments": {},
   "cell_type": "markdown",
   "metadata": {},
   "source": [
    "<span style=\"color:green\">\n",
    "Опять же - результат чуть лучше, чем у предыдущего, но, по большому счету, не очень убедительный в плане прогностической силы\n",
    "</span>"
   ]
  },
  {
   "cell_type": "code",
   "execution_count": 49,
   "metadata": {},
   "outputs": [
    {
     "name": "stdout",
     "output_type": "stream",
     "text": [
      "AUC value: 0.8333943993251165\n"
     ]
    },
    {
     "data": {
      "image/png": "[encoded data removed]",
      "text/plain": [
       "<Figure size 432x288 with 1 Axes>"
      ]
     },
     "metadata": {
      "needs_background": "light"
     },
     "output_type": "display_data"
    }
   ],
   "source": [
    "test_svc_mod = SVC(kernel='poly', probability=True, gamma=svc_poly_params['gamma'], C=svc_poly_params['C'], degree=svc_poly_params['degree'], coef0=svc_poly_params['coef0'])\n",
    "test_svc_mod.fit(features_train, target_train)\n",
    "probs = test_svc_mod.predict_proba(features_test)\n",
    "preds = probs[:,1]\n",
    "\n",
    "fpr_sgd, tpr_sgd, threshold = roc_curve(target_test, preds)\n",
    "auc_value_sgd = auc(fpr_sgd, tpr_sgd)\n",
    "\n",
    "print(f\"AUC value: {auc_value_sgd}\")\n",
    "\n",
    "plt.plot(fpr_sgd, tpr_sgd, 'b')\n",
    "plt.plot([0,1],[0,1],'r--')\n",
    "plt.xlim([0,1])\n",
    "plt.ylim([0,1])\n",
    "plt.xlabel(\"False positive rate\")\n",
    "plt.ylabel(\"True positive rate\")\n",
    "plt.show()"
   ]
  },
  {
   "attachments": {},
   "cell_type": "markdown",
   "metadata": {},
   "source": [
    "<span style=\"color:green\">\n",
    "<b>LIGHT GBM</b>\n",
    "</span>"
   ]
  },
  {
   "cell_type": "code",
   "execution_count": 50,
   "metadata": {},
   "outputs": [
    {
     "name": "stdout",
     "output_type": "stream",
     "text": [
      "LightGBM best params: {'max_depth': 21, 'n_estimators': 200}\n",
      "LightGBM best score: 0.9336575306537825\n"
     ]
    }
   ],
   "source": [
    "model_lgb = lgb.LGBMClassifier(random_state=123)\n",
    "params_lgb = {\"n_estimators\" : range(40,201,10), \"max_depth\" : range(5,25)}\n",
    "grid_search_lgb = GridSearchCV(model_lgb, params_lgb, cv=3, scoring='accuracy')\n",
    "grid_search_lgb.fit(features_train, target_train)\n",
    "\n",
    "lgb_params = grid_search_lgb.best_params_\n",
    "lgb_acc = grid_search_lgb.best_score_\n",
    "print(f'LightGBM best params: {lgb_params}')\n",
    "print(f'LightGBM best score: {lgb_acc}')"
   ]
  },
  {
   "attachments": {},
   "cell_type": "markdown",
   "metadata": {},
   "source": [
    "<span style=\"color:green\">\n",
    "Очень хороший результат. Посмотрим на ROC-AUC график\n",
    "</span>"
   ]
  },
  {
   "cell_type": "code",
   "execution_count": 51,
   "metadata": {},
   "outputs": [
    {
     "name": "stdout",
     "output_type": "stream",
     "text": [
      "AUC value: 0.984725757099145\n"
     ]
    },
    {
     "data": {
      "image/png": "[encoded data removed]",
      "text/plain": [
       "<Figure size 432x288 with 1 Axes>"
      ]
     },
     "metadata": {
      "needs_background": "light"
     },
     "output_type": "display_data"
    }
   ],
   "source": [
    "test_lgb_mod = lgb.LGBMClassifier(random_state=123, n_estimators=lgb_params['n_estimators'], max_depth=lgb_params['max_depth'])\n",
    "test_lgb_mod.fit(features_train, target_train)\n",
    "probs = test_lgb_mod.predict_proba(features_test)\n",
    "preds = probs[:,1]\n",
    "\n",
    "fpr_sgd, tpr_sgd, threshold = roc_curve(target_test, preds)\n",
    "auc_value_sgd = auc(fpr_sgd, tpr_sgd)\n",
    "\n",
    "print(f\"AUC value: {auc_value_sgd}\")\n",
    "\n",
    "plt.plot(fpr_sgd, tpr_sgd, 'b')\n",
    "plt.plot([0,1],[0,1],'r--')\n",
    "plt.xlim([0,1])\n",
    "plt.ylim([0,1])\n",
    "plt.xlabel(\"False positive rate\")\n",
    "plt.ylabel(\"True positive rate\")\n",
    "plt.show()"
   ]
  },
  {
   "attachments": {},
   "cell_type": "markdown",
   "metadata": {},
   "source": [
    "<span style=\"color:green\">\n",
    "Внешний вид графика подтверждает его способность находить правильные предсказания при малом количестве ложноположительных ответов. Поэтому, модель LightGBM берем, как рабочую.\n",
    "</span>"
   ]
  },
  {
   "attachments": {},
   "cell_type": "markdown",
   "metadata": {},
   "source": [
    "<span style=\"color:green\">\n",
    "Предскажем с помощью нее тестовые значения и построим дополнительные параметры, такие как: аккуратность предсказания, матрицу неточностей и краткую сводку по прочим метрикам предсказания\n",
    "</span>"
   ]
  },
  {
   "cell_type": "code",
   "execution_count": 52,
   "metadata": {},
   "outputs": [
    {
     "name": "stdout",
     "output_type": "stream",
     "text": [
      "Accuracy: 0.9391711229946524\n",
      "[[661  87]\n",
      " [  4 744]]\n",
      "              precision    recall  f1-score   support\n",
      "\n",
      "         0.0       0.99      0.88      0.94       748\n",
      "         1.0       0.90      0.99      0.94       748\n",
      "\n",
      "    accuracy                           0.94      1496\n",
      "   macro avg       0.94      0.94      0.94      1496\n",
      "weighted avg       0.94      0.94      0.94      1496\n",
      "\n"
     ]
    }
   ],
   "source": [
    "target_pred = test_lgb_mod.predict(features_test)\n",
    "accuracy = accuracy_score(target_test, target_pred)\n",
    "print(f\"Accuracy: {accuracy}\")\n",
    "\n",
    "conf_matrix = confusion_matrix(target_test, target_pred)\n",
    "print(conf_matrix)\n",
    "\n",
    "class_rep = classification_report(target_test, target_pred)\n",
    "print(class_rep)"
   ]
  },
  {
   "attachments": {},
   "cell_type": "markdown",
   "metadata": {},
   "source": [
    "<span style=\"color:green\">\n",
    "Таким образом, в качестве предиктивной модели, выбираем модель LightGBM, которая дает акууратность предсказания 0.94 на тестовых данных\n",
    "</span>"
   ]
  }
 ],
 "metadata": {
  "kernelspec": {
   "display_name": "Python 3",
   "language": "python",
   "name": "python3"
  },
  "language_info": {
   "codemirror_mode": {
    "name": "ipython",
    "version": 3
   },
   "file_extension": ".py",
   "mimetype": "text/x-python",
   "name": "python",
   "nbconvert_exporter": "python",
   "pygments_lexer": "ipython3",
   "version": "3.9.2"
  },
  "orig_nbformat": 4,
  "vscode": {
   "interpreter": {
    "hash": "99bf1d2320a292a6993a37db43dc627d43d0039aa03c7d61341ee08f675cceca"
   }
  }
 },
 "nbformat": 4,
 "nbformat_minor": 2
}
